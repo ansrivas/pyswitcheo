{
 "cells": [
  {
   "cell_type": "code",
   "execution_count": 1,
   "metadata": {},
   "outputs": [],
   "source": [
    "import json\n",
    "from http import HTTPStatus\n",
    "import pyswitcheo\n",
    "from pyswitcheo.api import SwitcheoApi"
   ]
  },
  {
   "cell_type": "code",
   "execution_count": 2,
   "metadata": {},
   "outputs": [
    {
     "data": {
      "text/plain": [
       "'0.1.0'"
      ]
     },
     "execution_count": 2,
     "metadata": {},
     "output_type": "execute_result"
    }
   ],
   "source": [
    "pyswitcheo.__version__"
   ]
  },
  {
   "cell_type": "code",
   "execution_count": 3,
   "metadata": {},
   "outputs": [],
   "source": [
    "client = SwitcheoApi(base_url=\"https://test-api.switcheo.network\")"
   ]
  },
  {
   "cell_type": "code",
   "execution_count": 4,
   "metadata": {},
   "outputs": [
    {
     "name": "stdout",
     "output_type": "stream",
     "text": [
      "{'NEO': {'V1': '0ec5712e0f7c63e4b0fea31029a28cea5e9d551f', 'V1_5': 'c41d8b0c30252ce7e8b6d95e9ce13fdd68d2a5a8', 'V2': 'a195c1549e7da61b8da315765a790ac7e7633b82'}, 'ETH': {'V1': '0x0000000000000000000000000000000000000000'}}\n"
     ]
    }
   ],
   "source": [
    "resp = client.list_contracts()\n",
    "if resp.status_code == HTTPStatus.OK:\n",
    "    print(json.loads(resp.text.encode(\"UTF-8\")))"
   ]
  },
  {
   "cell_type": "code",
   "execution_count": 8,
   "metadata": {},
   "outputs": [
    {
     "name": "stdout",
     "output_type": "stream",
     "text": [
      "[{'time': 1532390400, 'open': '0.00044566', 'close': '0.00052793', 'high': '0.00052793', 'low': '0.00041560', 'volume': '84.53270457', 'quote_volume': '189377.28986939'}, {'time': 1532476800, 'open': '0.00052794', 'close': '0.00052794', 'high': '0.00052794', 'low': '0.00052794', 'volume': '0.10000000', 'quote_volume': '189.41546388'}, {'time': 1532563200, 'open': '0.00052793', 'close': '0.00047345', 'high': '0.00052821', 'low': '0.00047345', 'volume': '2.63076697', 'quote_volume': '5059.80618307'}, {'time': 1532736000, 'open': '0.00047345', 'close': '0.00047345', 'high': '0.01000000', 'low': '0.00047345', 'volume': '9.11116624', 'quote_volume': '9458.57047180'}, {'time': 1532822400, 'open': '0.01000000', 'close': '0.00999998', 'high': '0.01000000', 'low': '0.00999998', 'volume': '0.00999999', 'quote_volume': '1.00000000'}, {'time': 1532908800, 'open': '0.01000000', 'close': '0.00046835', 'high': '0.01000000', 'low': '0.00046835', 'volume': '5.92432450', 'quote_volume': '12466.52065255'}, {'time': 1532995200, 'open': '0.00049108', 'close': '0.00049111', 'high': '0.00049111', 'low': '0.00049108', 'volume': '0.09828581', 'quote_volume': '200.12995013'}, {'time': 1533081600, 'open': '0.00046835', 'close': '0.00046835', 'high': '0.00046835', 'low': '0.00046835', 'volume': '0.01170875', 'quote_volume': '25.00000000'}, {'time': 1533168000, 'open': '0.00046835', 'close': '0.00046835', 'high': '0.00048835', 'low': '0.00046835', 'volume': '2.99059086', 'quote_volume': '6381.10571152'}, {'time': 1533254400, 'open': '0.00048835', 'close': '0.00048835', 'high': '0.00048835', 'low': '0.00048835', 'volume': '0.48834999', 'quote_volume': '1000.00000000'}, {'time': 1533340800, 'open': '1.00000000', 'close': '1.00000000', 'high': '1.00000000', 'low': '1.00000000', 'volume': '1.00000000', 'quote_volume': '1.00000000'}, {'time': 1533427200, 'open': '0.00470000', 'close': '0.00046835', 'high': '0.00470000', 'low': '0.00046835', 'volume': '0.35201138', 'quote_volume': '299.82688685'}, {'time': 1533513600, 'open': '0.00047734', 'close': '0.00046835', 'high': '0.00200000', 'low': '0.00046835', 'volume': '2.59958766', 'quote_volume': '4680.28011705'}, {'time': 1533600000, 'open': '0.00047657', 'close': '1.00000000', 'high': '1.00000000', 'low': '0.00046835', 'volume': '4.23104170', 'quote_volume': '2764.92820497'}]\n"
     ]
    }
   ],
   "source": [
    "resp = client.get_candle_sticks(pair=\"SWTH_NEO\", start_time=1433736037, end_time=1533736037, interval=1440, contract_hash='a195c1549e7da61b8da315765a790ac7e7633b82')\n",
    "if resp.status_code == HTTPStatus.OK:\n",
    "    print(json.loads(resp.text.encode(\"UTF-8\")))"
   ]
  },
  {
   "cell_type": "code",
   "execution_count": null,
   "metadata": {},
   "outputs": [],
   "source": []
  }
 ],
 "metadata": {
  "kernelspec": {
   "display_name": "Python 3",
   "language": "python",
   "name": "python3"
  },
  "language_info": {
   "codemirror_mode": {
    "name": "ipython",
    "version": 3
   },
   "file_extension": ".py",
   "mimetype": "text/x-python",
   "name": "python",
   "nbconvert_exporter": "python",
   "pygments_lexer": "ipython3",
   "version": "3.6.5"
  }
 },
 "nbformat": 4,
 "nbformat_minor": 2
}
